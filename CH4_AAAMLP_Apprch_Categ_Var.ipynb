{
 "cells": [
  {
   "cell_type": "code",
   "execution_count": null,
   "id": "a935998e-9c38-472a-a10e-84e2dc67c136",
   "metadata": {},
   "outputs": [],
   "source": [
    "### Chapter 4 - Approaching Almost Any ML Problem\n",
    "###  Approaching Categorical Variables\n",
    "### Cat in the Dat II Data"
   ]
  },
  {
   "cell_type": "code",
   "execution_count": 1,
   "id": "b2553df8-4493-4560-808a-5603f270c52e",
   "metadata": {},
   "outputs": [],
   "source": [
    "import pandas as pd\n",
    "import numpy as np\n",
    "\n",
    "import seaborn as sn\n",
    "import matplotlib.pyplot as plt\n",
    "%matplotlib inline\n",
    "\n",
    "from sklearn import datasets\n",
    "from sklearn import manifold"
   ]
  },
  {
   "cell_type": "code",
   "execution_count": 3,
   "id": "a88dd48b-ec64-4768-8104-40f9d6faaa82",
   "metadata": {},
   "outputs": [],
   "source": [
    "data = pd.read_csv('/Users/shankarmanoharan/ML/Kaggle projects/cat-in-the-dat-ii/train.csv')"
   ]
  },
  {
   "cell_type": "code",
   "execution_count": 5,
   "id": "e9db291a-a584-4919-bdaa-7ce50f1d1846",
   "metadata": {},
   "outputs": [
    {
     "data": {
      "text/plain": [
       "['id',\n",
       " 'bin_0',\n",
       " 'bin_1',\n",
       " 'bin_2',\n",
       " 'bin_3',\n",
       " 'bin_4',\n",
       " 'nom_0',\n",
       " 'nom_1',\n",
       " 'nom_2',\n",
       " 'nom_3',\n",
       " 'nom_4',\n",
       " 'nom_5',\n",
       " 'nom_6',\n",
       " 'nom_7',\n",
       " 'nom_8',\n",
       " 'nom_9',\n",
       " 'ord_0',\n",
       " 'ord_1',\n",
       " 'ord_2',\n",
       " 'ord_3',\n",
       " 'ord_4',\n",
       " 'ord_5',\n",
       " 'day',\n",
       " 'month',\n",
       " 'target']"
      ]
     },
     "execution_count": 5,
     "metadata": {},
     "output_type": "execute_result"
    }
   ],
   "source": [
    "data.columns.to_list()"
   ]
  },
  {
   "cell_type": "code",
   "execution_count": 6,
   "id": "ebc1d04a-c9d3-40d2-b2bb-970ebdab395d",
   "metadata": {},
   "outputs": [
    {
     "data": {
      "text/plain": [
       "0    487677\n",
       "1    112323\n",
       "Name: target, dtype: int64"
      ]
     },
     "execution_count": 6,
     "metadata": {},
     "output_type": "execute_result"
    }
   ],
   "source": [
    "data['target'].value_counts()"
   ]
  },
  {
   "cell_type": "code",
   "execution_count": 13,
   "id": "59788368-217e-4836-bde6-031c27d8e5fe",
   "metadata": {},
   "outputs": [
    {
     "data": {
      "image/png": "[encoded data removed]",
      "text/plain": [
       "<Figure size 576x360 with 1 Axes>"
      ]
     },
     "metadata": {
      "needs_background": "light"
     },
     "output_type": "display_data"
    }
   ],
   "source": [
    "plt.figure(figsize=(8,5))\n",
    "bin_ranges = [0, 1]\n",
    "plt.hist(data.target.values,color='green', edgecolor='black',alpha=0.5)\n",
    "plt.xlabel('Target')\n",
    "plt.ylabel('Freq')\n",
    "plt.title('Target Distribution')\n",
    "plt.xticks(np.arange(0, 2, 1))\n",
    "plt.show()"
   ]
  },
  {
   "cell_type": "code",
   "execution_count": null,
   "id": "3167fbdb-2adc-4be4-a0ef-10c7e7b04bb7",
   "metadata": {},
   "outputs": [],
   "source": [
    "### Based on the Above - the metric is AUC"
   ]
  },
  {
   "cell_type": "code",
   "execution_count": 15,
   "id": "5f061e30-3983-46cd-a549-5644e20d4557",
   "metadata": {},
   "outputs": [
    {
     "data": {
      "text/plain": [
       "Freezing       142726\n",
       "Warm           124239\n",
       "Cold            97822\n",
       "Boiling Hot     84790\n",
       "Hot             67508\n",
       "Lava Hot        64840\n",
       "NaN             18075\n",
       "Name: ord_2, dtype: int64"
      ]
     },
     "execution_count": 15,
     "metadata": {},
     "output_type": "execute_result"
    }
   ],
   "source": [
    "data['ord_2'].value_counts(dropna=False)"
   ]
  },
  {
   "cell_type": "code",
   "execution_count": 19,
   "id": "eecb5e78-599b-4761-95b9-fb0f3a1f93f9",
   "metadata": {},
   "outputs": [
    {
     "data": {
      "text/plain": [
       "0.0    142726\n",
       "1.0    124239\n",
       "2.0     97822\n",
       "3.0     84790\n",
       "4.0     67508\n",
       "5.0     64840\n",
       "NaN     18075\n",
       "Name: ord_2, dtype: int64"
      ]
     },
     "execution_count": 19,
     "metadata": {},
     "output_type": "execute_result"
    }
   ],
   "source": [
    "### Option 1 - label_Encoding\n",
    "mapping = {    \n",
    "    \"Freezing\" :0,\n",
    "    \"Warm\" : 1,\n",
    "    \"Cold\" :2,\n",
    "    \"Boiling Hot\" : 3,\n",
    "    \"Hot\" :4,\n",
    "    \"Lava Hot\" :5\n",
    "}\n",
    "data1 = data.copy()\n",
    "data1.loc[:,'ord_2'] = data1.ord_2.map(mapping)\n",
    "data1['ord_2'].value_counts(dropna=False)"
   ]
  },
  {
   "cell_type": "code",
   "execution_count": 26,
   "id": "9323c15b-f638-4bd7-ad01-34604b9e22b7",
   "metadata": {},
   "outputs": [
    {
     "data": {
      "text/plain": [
       "2    142726\n",
       "6    124239\n",
       "1     97822\n",
       "0     84790\n",
       "3     67508\n",
       "4     64840\n",
       "5     18075\n",
       "Name: ord_2, dtype: int64"
      ]
     },
     "execution_count": 26,
     "metadata": {},
     "output_type": "execute_result"
    }
   ],
   "source": [
    "### Scikit learn Label Encoder\n",
    "from sklearn import preprocessing as pp\n",
    "data2 = data.copy()\n",
    "data2.loc[:,'ord_2'] = data2.ord_2.fillna(\"None\")\n",
    "data2[\"ord_2\"].value_counts(dropna=False)\n",
    "lbl_encod = pp.LabelEncoder()\n",
    "data2.loc[:,'ord_2'] = lbl_encod.fit_transform(data2.ord_2.values)\n",
    "data2[\"ord_2\"].value_counts()"
   ]
  },
  {
   "cell_type": "code",
   "execution_count": null,
   "id": "2403c00e-a75f-41cf-b82e-14a677abfe1a",
   "metadata": {},
   "outputs": [],
   "source": [
    "### remember to fit & transform\n",
    "###The fit method is calculating the mean and variance of each of the features present in our data. \n",
    "### The transform method is transforming all the features using the respective mean and variance.\n",
    "### Now, we want scaling to be applied to our test data too and at the same time do not want to be biased with our model. \n",
    "### We want our test data to be a completely new and a surprise set for our model. The transform method helps us in this case.\n",
    "### Using the transform method we can use the same mean and variance as it is calculated from our training data to \n",
    "### transform our test data. Thus, the parameters learned by our model using the training data will help us to transform our test data.\n",
    "\n",
    "### Why?\n",
    "\n",
    "### If we will use the fit method on our test data too, we will compute a new mean and variance that is a new scale for each feature \n",
    "### and will let our model learn about our test data too. Thus, what we want to keep as a surprise is no longer unknown to our model \n",
    "##  and we will not get a good estimate of how our model is performing on the test (unseen) data which is the ultimate goal of building \n",
    "### a model using machine learning algorithm.\n",
    "### This is the standard procedure to scale our data while building a machine learning model so that our model is not biased towards a \n",
    "### particular feature of the dataset and at the same time prevents our model to learn the features/values/trends of our test data."
   ]
  },
  {
   "cell_type": "code",
   "execution_count": null,
   "id": "245afd6f-945b-41cb-a302-03fceb1ab838",
   "metadata": {},
   "outputs": [],
   "source": [
    "### label encoding can be used directly in tree based models - DT, RF, Extra Tress, XGB, GBM, LiteGBM\n",
    "###.for Linear mdoels , SVM & NN the data is expected to be normalized"
   ]
  },
  {
   "cell_type": "code",
   "execution_count": 27,
   "id": "737703b1-fb37-4904-ab54-214819c8dd31",
   "metadata": {},
   "outputs": [
    {
     "name": "stdout",
     "output_type": "stream",
     "text": [
      "72\n"
     ]
    }
   ],
   "source": [
    "### option 2 - Binarized Variables / Sparse Format\n",
    "### e.g. Warm      --> 0 ---> 001\n",
    "###      Hot       --> 1 ---> 100\n",
    "###      lava hot  --> 2 ---> 101\n",
    "import numpy as np\n",
    "example = np.array([\n",
    "     [0,0,1],\n",
    "    [1,0,0],\n",
    "    [1,0,1]    \n",
    "])\n",
    "print(example.nbytes)"
   ]
  },
  {
   "cell_type": "code",
   "execution_count": 32,
   "id": "0853dccf-2dd9-4f82-9a87-f90155435e94",
   "metadata": {},
   "outputs": [
    {
     "name": "stdout",
     "output_type": "stream",
     "text": [
      "  (0, 2)\t1\n",
      "  (1, 0)\t1\n",
      "  (2, 0)\t1\n",
      "  (2, 2)\t1\n",
      "32\n"
     ]
    }
   ],
   "source": [
    "### Sparse Format - based on the example above\n",
    "###                  dictionary of key & values; keys are indices of rows and columns & value is 1;  \n",
    "###                  store only with values 1 and ignore 0's\n",
    "###                       F1. F2 F3\n",
    "### Sample 0   Warm       0   0   1 \n",
    "### Sample 1   Hot        1   0   0   \n",
    "### Sample 2   Hot        1.  0.  1   \n",
    "\n",
    "### Dict\n",
    "### (0,2)  1\n",
    "### (1,0)  1\n",
    "### (2,0)  1\n",
    "### (2,2)  1\n",
    "from scipy import sparse\n",
    "example = np.array([\n",
    "     [0,0,1],\n",
    "    [1,0,0],\n",
    "    [1,0,1]    \n",
    "])\n",
    "sparse_eg = sparse.csr_matrix(example)\n",
    "print(sparse_eg)\n",
    "print(sparse_eg.data.nbytes)"
   ]
  },
  {
   "cell_type": "code",
   "execution_count": 33,
   "id": "24b9e28d-9ec9-481d-89a1-08211c235e01",
   "metadata": {},
   "outputs": [
    {
     "name": "stdout",
     "output_type": "stream",
     "text": [
      "  (0, 5)\t1\n",
      "  (1, 1)\t1\n",
      "  (2, 0)\t1\n",
      "size of dense array:144\n",
      "size of sparse array:24\n"
     ]
    }
   ],
   "source": [
    "### option 3 - One hot encoding\n",
    "###.              Feature 1 - 6\n",
    "### Freezing      000001\n",
    "### Warm          000010\n",
    "### Cold          ..... \n",
    "### Boiling Hot    \n",
    "### Hot         \n",
    "### Lava Hot      100000   \n",
    "from scipy import sparse\n",
    "example = np.array([\n",
    "     [0,0,0,0,0,1],\n",
    "     [0,1,0,0,0,0],\n",
    "     [1,0,0,0,0,0],\n",
    "])\n",
    "sparse_eg = sparse.csr_matrix(example)\n",
    "print(sparse_eg)\n",
    "print(f\"size of dense array:{example.nbytes}\")\n",
    "print(f\"size of sparse array:{sparse_eg.data.nbytes}\")"
   ]
  },
  {
   "cell_type": "code",
   "execution_count": null,
   "id": "56252aff-5ad3-4c4d-a42d-93c3641bc3da",
   "metadata": {},
   "outputs": [],
   "source": [
    "### The drawbacks of using binary encoding for categorical variables include:\n",
    "### Complexity: Binary encoding can be complex to implement and understand, especially for non-technical individuals.\n",
    "### Ordering of categories: Binary encoding assigns binary codes to categories in a specific order, \n",
    "###      which may not always reflect the true relationship between categories. \n",
    "###      For example, if the binary encoding assigns the code “00” to the category “A” and “01” to the category “B”, \n",
    "###       this may lead to the assumption that “A” is less than “B”.\n",
    "### Information Loss: Binary encoding can result in information loss compared to one-hot encoding, as it reduces the number of columns \n",
    "###       representing the categorical feature. This may result in a loss of detail and decreased performance of machine learning models.\n",
    "### Model limitations: Some machine learning models, such as decision trees, may not be able to handle binary encoded features effectively, \n",
    "###       as they may not be able to capture the underlying relationships between categories.\n",
    "### Interpreting Results: Binary encoding can make it difficult to interpret the results of machine learning models, \n",
    "###      as the binary codes may not have a clear relationship to the original categories.\n",
    "\n",
    "\n",
    "###  With binary encoding, you can reduce the dimensionality of the data by representing each category with a fixed number of bits. \n",
    "### This can help in terms of memory usage and computational time, especially when dealing with large datasets. \n",
    "### However, this reduction in dimensionality also means that some information about the relationships between categories may be lost.\n",
    "### It’s important to carefully consider the trade-offs and limitations of each encoding method based on the characteristics of your data \n",
    "### and the requirements of your analysis.\n",
    "\n",
    "### Label encoding assigns a unique integer to each category, preserving the ordinal relationships between categories but not \n",
    "###. the magnitude of those relationships. On the other hand, one-hot encoding creates a separate column for each category, \n",
    "###  capturing the magnitude of relationships but not the ordinal relationships.\n",
    "\n",
    "### Label encoding is best when there is an ordinal relationship between categories, \n",
    "###.    as it captures the order of categories and can simplify the encoding process. \n",
    "### One-hot encoding is best when there is no ordinal relationship between categories, as it captures the magnitude of relationships \n",
    "###   and provides a high-dimensional representation of the data. “The magnitude of relationships” refers to the strength of the \n",
    "###   relationship between categories. For example, in a one-hot encoded representation, \n",
    "###   the presence or absence of a category in a particular row of data is used to indicate the relationship between that row and \n",
    "###   the corresponding category. The magnitude of the relationship is indicated by the presence or absence of a particular category in the data.\n",
    "### Binary encoding is best when there are weak ordinal relationships between categories and the magnitude of relationships is not \n",
    "###   critical, or when memory constraints prevent the use of one-hot encoding."
   ]
  },
  {
   "cell_type": "code",
   "execution_count": 41,
   "id": "4eb8716c-83b3-4495-9e78-51470c0bc693",
   "metadata": {},
   "outputs": [],
   "source": [
    "### example of OneHotEncoding with Sklearn\n",
    "import numpy as np\n",
    "from sklearn import preprocessing\n",
    "example = np.random.randint(1000,size=10)\n",
    "one = preprocessing.OneHotEncoder(sparse=True)\n",
    "one_example = one.fit_transform(example.reshape(-1,1))"
   ]
  },
  {
   "cell_type": "code",
   "execution_count": 46,
   "id": "004c8de3-7433-4ed9-9836-044daa40e32a",
   "metadata": {},
   "outputs": [
    {
     "name": "stdout",
     "output_type": "stream",
     "text": [
      "  (0, 4)\t1.0\n",
      "  (1, 7)\t1.0\n",
      "  (2, 1)\t1.0\n",
      "  (3, 0)\t1.0\n",
      "  (4, 9)\t1.0\n",
      "  (5, 2)\t1.0\n",
      "  (6, 8)\t1.0\n",
      "  (7, 5)\t1.0\n",
      "  (8, 3)\t1.0\n",
      "  (9, 6)\t1.0\n"
     ]
    }
   ],
   "source": [
    "print(one_example)"
   ]
  },
  {
   "cell_type": "code",
   "execution_count": 48,
   "id": "08620e7e-8ae9-4565-b565-e2c6d9a2c6a8",
   "metadata": {},
   "outputs": [
    {
     "data": {
      "text/plain": [
       "ord_2\n",
       "Boiling Hot     84790\n",
       "Cold            97822\n",
       "Freezing       142726\n",
       "Hot             67508\n",
       "Lava Hot        64840\n",
       "Warm           124239\n",
       "Name: id, dtype: int64"
      ]
     },
     "execution_count": 48,
     "metadata": {},
     "output_type": "execute_result"
    }
   ],
   "source": [
    "###. Option 4 - replace ord_2 with Count values - new feature with numerical data\n",
    "data.groupby(['ord_2'])['id'].count()\n",
    "    ###. sample -  data.groupby(['ord_2'])['id'].transform('count')"
   ]
  },
  {
   "cell_type": "code",
   "execution_count": 51,
   "id": "7c930d86-20a4-4e66-aff8-f973c4429418",
   "metadata": {},
   "outputs": [
    {
     "data": {
      "text/plain": [
       "ord_1        ord_2      \n",
       "Contributor  Boiling Hot    15634\n",
       "             Cold           17734\n",
       "             Freezing       26082\n",
       "             Hot            12428\n",
       "             Lava Hot       11919\n",
       "             Warm           22774\n",
       "Expert       Boiling Hot    19477\n",
       "             Cold           22956\n",
       "             Freezing       33249\n",
       "             Hot            15792\n",
       "             Lava Hot       15078\n",
       "             Warm           28900\n",
       "Grandmaster  Boiling Hot    13623\n",
       "             Cold           15464\n",
       "             Freezing       22818\n",
       "             Hot            10805\n",
       "             Lava Hot       10363\n",
       "             Warm           19899\n",
       "Master       Boiling Hot    10800\n",
       "             Cold           12364\n",
       "             Freezing       18035\n",
       "             Hot             8594\n",
       "             Lava Hot        8209\n",
       "             Warm           15734\n",
       "Novice       Boiling Hot    22718\n",
       "             Cold           26271\n",
       "             Freezing       38233\n",
       "             Hot            17850\n",
       "             Lava Hot       17373\n",
       "             Warm           33263\n",
       "Name: id, dtype: int64"
      ]
     },
     "execution_count": 51,
     "metadata": {},
     "output_type": "execute_result"
    }
   ],
   "source": [
    "### Option 4 A - combine Ord_2 & other attributes together to form a new feature \n",
    "data.groupby(['ord_1','ord_2'])['id'].count()"
   ]
  },
  {
   "cell_type": "code",
   "execution_count": 52,
   "id": "f65af252-115a-4521-ab1b-774e38e2bb89",
   "metadata": {},
   "outputs": [
    {
     "data": {
      "text/plain": [
       "Novice_Freezing            38233\n",
       "Novice_Warm                33263\n",
       "Expert_Freezing            33249\n",
       "Expert_Warm                28900\n",
       "Novice_Cold                26271\n",
       "Contributor_Freezing       26082\n",
       "Expert_Cold                22956\n",
       "Grandmaster_Freezing       22818\n",
       "Contributor_Warm           22774\n",
       "Novice_Boiling Hot         22718\n",
       "Grandmaster_Warm           19899\n",
       "Expert_Boiling Hot         19477\n",
       "Master_Freezing            18035\n",
       "Novice_Hot                 17850\n",
       "Contributor_Cold           17734\n",
       "Novice_Lava Hot            17373\n",
       "Expert_Hot                 15792\n",
       "Master_Warm                15734\n",
       "Contributor_Boiling Hot    15634\n",
       "Grandmaster_Cold           15464\n",
       "Expert_Lava Hot            15078\n",
       "Grandmaster_Boiling Hot    13623\n",
       "Contributor_Hot            12428\n",
       "Master_Cold                12364\n",
       "Contributor_Lava Hot       11919\n",
       "Grandmaster_Hot            10805\n",
       "Master_Boiling Hot         10800\n",
       "Grandmaster_Lava Hot       10363\n",
       "Master_Hot                  8594\n",
       "Master_Lava Hot             8209\n",
       "Name: new_Feature, dtype: int64"
      ]
     },
     "execution_count": 52,
     "metadata": {},
     "output_type": "execute_result"
    }
   ],
   "source": [
    "data['new_Feature'] = (data['ord_1'] + \"_\" + data['ord_2'])\n",
    "data['new_Feature'].value_counts()"
   ]
  },
  {
   "cell_type": "code",
   "execution_count": null,
   "id": "ef7d917d-e42d-49fc-8c3a-b437211221d1",
   "metadata": {},
   "outputs": [],
   "source": [
    "### Steps for categorial Variables\n",
    "### - fill NAN values - treat them as a new category so that u treat them as new category\n",
    "### - Convert them to integers by applying labelencoding using SKlearn or Mapping dictionary\n",
    "### - Create OneHotEncoding,\n",
    "### - Go for Modelling\n",
    "### - in Prod ; we shd add something like a rare category which is not seen very often and classify incoming as rare. \n",
    "###.  this works for unknown categories too. u can also include a simple model which predict this unknow and include it in the model.\n",
    "###.   but design ur cross validation dataset in a way it predicts like when u run it on test so that it will nnot overfit."
   ]
  },
  {
   "cell_type": "code",
   "execution_count": null,
   "id": "bab85a29-b433-4148-9dc0-458aea6a3011",
   "metadata": {},
   "outputs": [],
   "source": []
  }
 ],
 "metadata": {
  "kernelspec": {
   "display_name": "Python 3 (ipykernel)",
   "language": "python",
   "name": "python3"
  },
  "language_info": {
   "codemirror_mode": {
    "name": "ipython",
    "version": 3
   },
   "file_extension": ".py",
   "mimetype": "text/x-python",
   "name": "python",
   "nbconvert_exporter": "python",
   "pygments_lexer": "ipython3",
   "version": "3.9.7"
  }
 },
 "nbformat": 4,
 "nbformat_minor": 5
}

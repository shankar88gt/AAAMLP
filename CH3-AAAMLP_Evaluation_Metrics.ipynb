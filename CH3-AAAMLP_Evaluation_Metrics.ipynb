{
 "cells": [
  {
   "cell_type": "markdown",
   "id": "532e5605-81b1-4944-9566-3f348f53b9d9",
   "metadata": {},
   "source": [
    "### Chapter 3 - Approaching Almost ANy ML Problem"
   ]
  },
  {
   "cell_type": "markdown",
   "id": "8130d3cf-e7db-4c74-82a9-7b899b4d30e1",
   "metadata": {},
   "source": [
    "### Evaluation Metrics\n",
    "### Classification - Accuracy, Precision Recall F1 Score ROC, AUC, Log Loss, Precision@k Avg Precision@K, Mean Avg Precision@K\n",
    "### MAE, MSE, RMSE, RootMeanSqrdLogE, Mean%E ( MPE), Mean abs $ E "
   ]
  },
  {
   "cell_type": "markdown",
   "id": "a7aa159b-2c15-425b-ae45-d588378dba18",
   "metadata": {},
   "source": [
    "# Equal # of +ve & -ve samples in the dataset then accuracy, precision , recall & F1 score"
   ]
  },
  {
   "cell_type": "code",
   "execution_count": 1,
   "id": "36391b24-e0f6-4f50-b0f1-0ef9790a60e6",
   "metadata": {},
   "outputs": [],
   "source": [
    "import pandas as pd\n",
    "import numpy as np\n",
    "\n",
    "import seaborn as sn\n",
    "import matplotlib.pyplot as plt\n",
    "%matplotlib inline\n",
    "\n",
    "from sklearn import datasets\n",
    "from sklearn import manifold"
   ]
  },
  {
   "cell_type": "code",
   "execution_count": 2,
   "id": "6489b0ae-bc14-4d5c-96c7-49d7b1601896",
   "metadata": {},
   "outputs": [],
   "source": [
    "def accuracy(Y_true,Y_pred):\n",
    "    correct_counter =0\n",
    "    for yp,yt in zip(Y_pred,Y_true):\n",
    "        if yt == yp:\n",
    "            correct_counter += 1\n",
    "    return correct_counter / len(Y_true)"
   ]
  },
  {
   "cell_type": "code",
   "execution_count": 4,
   "id": "9a7b17db-b59e-45d3-bd3e-c69b67db8a3e",
   "metadata": {},
   "outputs": [
    {
     "data": {
      "text/plain": [
       "0.625"
      ]
     },
     "execution_count": 4,
     "metadata": {},
     "output_type": "execute_result"
    }
   ],
   "source": [
    "from sklearn import metrics\n",
    "l1 = [0,1,1,1,0,0,0,1]\n",
    "l2 = [0,1,0,1,0,1,0,0]\n",
    "metrics.accuracy_score(l1,l2)"
   ]
  },
  {
   "cell_type": "markdown",
   "id": "0781c4f6-391d-4c78-a594-d604791bdcd1",
   "metadata": {},
   "source": [
    "### when data is imbalanced then precision & Recall"
   ]
  },
  {
   "cell_type": "code",
   "execution_count": null,
   "id": "7965583a-e7a1-4418-94c2-31f656aeecba",
   "metadata": {},
   "outputs": [],
   "source": [
    "###binary classification - 0 healthy, 1 - cancer\n",
    "    Pred & Actual\n",
    "TP - 1 & 1\n",
    "TN - 0 & 0\n",
    "FP - 1 & 0\n",
    "FN - 0 & 1"
   ]
  },
  {
   "cell_type": "code",
   "execution_count": 11,
   "id": "19080a8d-1656-4e91-ae78-36badbaa334f",
   "metadata": {},
   "outputs": [],
   "source": [
    "def true_positive(Y_true,Y_pred):\n",
    "    tp = 0\n",
    "    for yp,yt in zip(Y_pred,Y_true):\n",
    "        if yt == 1 and yp == 1:\n",
    "            tp += 1\n",
    "    return tp\n",
    "def true_negative(Y_true,Y_pred):\n",
    "    tn = 0\n",
    "    for yp,yt in zip(Y_pred,Y_true):\n",
    "        if yt == 0 and yp == 0:\n",
    "            tn += 1\n",
    "    return tn\n",
    "def false_positive(Y_true,Y_pred):\n",
    "    fp = 0\n",
    "    for yp,yt in zip(Y_pred,Y_true):\n",
    "        if yt == 0 and yp == 1:\n",
    "            fp += 1\n",
    "    return fp\n",
    "def false_negative(Y_true,Y_pred):\n",
    "    fn = 0\n",
    "    for yp,yt in zip(Y_pred,Y_true):\n",
    "        if yt == 1 and yp == 0:\n",
    "            fn += 1\n",
    "    return fn"
   ]
  },
  {
   "cell_type": "code",
   "execution_count": 12,
   "id": "ed66df9d-0853-4878-854a-6cd0f81aa155",
   "metadata": {},
   "outputs": [
    {
     "name": "stdout",
     "output_type": "stream",
     "text": [
      "2\n",
      "3\n",
      "1\n",
      "2\n"
     ]
    }
   ],
   "source": [
    "l1 = [0,1,1,1,0,0,0,1]\n",
    "l2 = [0,1,0,1,0,1,0,0]\n",
    "print(true_positive(l1,l2))\n",
    "print(true_negative(l1,l2))\n",
    "print(false_positive(l1,l2))\n",
    "print(false_negative(l1,l2))"
   ]
  },
  {
   "cell_type": "markdown",
   "id": "6b099ea3-31dc-49d9-b98c-2bff28c2ba22",
   "metadata": {
    "tags": []
   },
   "source": [
    "### Accuracy Score = (TP + TN) / (TP + TN + FP + FN)"
   ]
  },
  {
   "cell_type": "markdown",
   "id": "cdc18100-928d-456e-878e-74f33b047ca7",
   "metadata": {},
   "source": [
    "Precision = TP / ( TP + FP )\n",
    "100 - Actual 90/10 - predicted - 80/8\n",
    "          = 8 / ( 8 + 10)\n",
    "          = TP - 44.4%\n",
    "Recall = TP / ( TP + FN ) - TPR - Sensitivity\n",
    "       = 8 / ( 8 + 2) = 80%"
   ]
  },
  {
   "cell_type": "markdown",
   "id": "2613b3d3-2f7b-4a2a-a45e-d663509f7bd3",
   "metadata": {},
   "source": [
    "F1 score \n",
    "F1 = 2PR / (P + R)\n",
    "F1 = 2TP /( 2TP + FP + FN )"
   ]
  },
  {
   "cell_type": "markdown",
   "id": "08a59be9-c19e-4885-bd2f-7cb5cc378857",
   "metadata": {},
   "source": [
    "### for skewed target - We shd look at F1 score instead of accuracy"
   ]
  },
  {
   "cell_type": "markdown",
   "id": "c3ff4698-c6e7-4065-871d-dc8277cce70e",
   "metadata": {},
   "source": [
    "### TPR = TP / ( TP + FN ) \n",
    "### FPR = FP / ( TN + FP )\n",
    "### (1 - FPR) = specificity or True Negative Rate or TNR "
   ]
  },
  {
   "cell_type": "code",
   "execution_count": 18,
   "id": "f29bfa74-d494-47c0-86fa-c0d1b6c2f273",
   "metadata": {},
   "outputs": [],
   "source": [
    "### precision , Recall , TPR & FPR definitions\n",
    "def precision(y_true,y_pred):\n",
    "    tp = true_positive(y_true,y_pred)\n",
    "    fp = false_positive(y_true,y_pred)\n",
    "    precision = tp / ( tp + fp )\n",
    "    return precision\n",
    "def recall(y_true,y_pred):\n",
    "    tp = true_positive(y_true,y_pred)\n",
    "    fn = false_negative(y_true,y_pred)\n",
    "    recall = tp / ( tp + fn )\n",
    "    return recall\n",
    "def TPR(y_true,y_pred):\n",
    "    return recall(y_true,y_pred)\n",
    "def FPR(y_true,y_pred):\n",
    "    fp = false_positive(y_true,y_pred)\n",
    "    tn = true_negative(y_true,y_pred)\n",
    "    return fp / ( tn + fp)"
   ]
  },
  {
   "cell_type": "code",
   "execution_count": 27,
   "id": "db3170b3-ab12-47c1-907d-9f1488e93099",
   "metadata": {},
   "outputs": [
    {
     "data": {
      "image/png": "[encoded data removed]",
      "text/plain": [
       "<Figure size 504x504 with 1 Axes>"
      ]
     },
     "metadata": {
      "needs_background": "light"
     },
     "output_type": "display_data"
    }
   ],
   "source": [
    "tpr_list = []\n",
    "fpr_list = []\n",
    "y_true = [0,0,0,0,1,0,1,0,0,1,0,1,0,0,1]\n",
    "y_pred = [0.1,0.3,0.2,0.6,0.8,0.05,0.9,0.5,0.3,0.66,0.3,0.2,0.85,0.15,0.99]\n",
    "thresholds = [0,0.1,0.2,0.3,0.4,0.5,0.6,0.7,0.8,0.9,0.99,1.0]\n",
    "\n",
    "for thresh in thresholds:\n",
    "    temp_pred = [1 if x >= thresh else 0 for x in y_pred]\n",
    "    temp_tpr = TPR(y_true,temp_pred)\n",
    "    temp_fpr = FPR(y_true,temp_pred)\n",
    "    tpr_list.append(temp_tpr)\n",
    "    fpr_list.append(temp_fpr)\n",
    "\n",
    "plt.figure(figsize=(7,7))\n",
    "plt.fill_between(fpr_list,tpr_list,alpha=0.4)\n",
    "plt.plot(fpr_list,tpr_list,lw=3)\n",
    "plt.xlim(0,1.0)\n",
    "plt.ylim(0,1.0)\n",
    "plt.title('ROC')\n",
    "plt.xlabel('FPR',fontsize=15)\n",
    "plt.ylabel('TPR',fontsize=15)\n",
    "plt.show()"
   ]
  },
  {
   "cell_type": "code",
   "execution_count": null,
   "id": "fedf5047-10ed-4eed-80a8-90444a28864c",
   "metadata": {},
   "outputs": [],
   "source": [
    "### Reciever operating Characterstic( ROC )\n",
    "### Area under ROC - AUC\n",
    "### AUC = 1 - perfect Model ; be carefull mostly mistake about validation \n",
    "### AUC = 0 - Very Bad model ; inverting probalities of prediction p vs 1-p\n",
    "### AUC = 0.5 - Predictions are random\n",
    "### AUC = 0 - 0.5 - worst than Random\n",
    "### e.g. AUC = 0.85 build a model to detect cancer then if u pick a positive sample and a negative sample then cancer image will \n",
    "### rank higher than non cancel with a prob of 0.85\n",
    "### u can use ROC to pick the best threshold\n",
    "### AUC is widely used for skewed Binary classification"
   ]
  },
  {
   "cell_type": "code",
   "execution_count": null,
   "id": "6e91ec1f-6abd-415f-a9b5-b8ddc1d98388",
   "metadata": {},
   "outputs": [],
   "source": [
    "### Log Loss - Similar to Cost function\n",
    "  log loss = -1.0 * ( target*log(pred) + (1-target)*log(1-pred) )\n",
    "### Log Loss penalizes quite high for incorrect or far off prediction."
   ]
  },
  {
   "cell_type": "code",
   "execution_count": null,
   "id": "32db807d-6ae6-4182-ac8e-79d91e2c738d",
   "metadata": {},
   "outputs": [],
   "source": [
    "### Multiclass Classification problem\n",
    "### all of the above is same and shd be calculated for Each class\n",
    "### 3 different ways\n",
    "1) Macro Avg Precision - calculate precision for all classes and then avg\n",
    "2) Micro Avg Precision - calculate class wise TP & FP and then use that to calculate Precision\n",
    "3) Weighted Precision  - same as Macro but weighted avg depeds on the number of items in each class\n",
    "\n",
    "1) Macro Avg Recall\n",
    "2) Micro Avg Recall\n",
    "3) Weighted Recall"
   ]
  },
  {
   "cell_type": "code",
   "execution_count": null,
   "id": "c54ddc30-ae2b-4609-a7ff-bcf1e218b6fd",
   "metadata": {},
   "outputs": [],
   "source": [
    "### Macro Precision\n",
    "loop over all class\n",
    "for class_ in range(num_class):\n",
    "    temp_true = [1 if p == class_ else 0 for p in y_true]\n",
    "    temp_pred = [1 if p == class_ else 0 for p in y_pred]\n",
    "    tp = true_positive(temp_true,temp_pred)\n",
    "    fp = false_positive(temp_true,temp_pred)\n",
    "    temp_precision = tp / ( tp + fp )\n",
    "    precision += temp_precision\n",
    "    \n",
    "precision /= num_class\n",
    "return precision\n",
    "\n",
    "### Micro Precision\n",
    "loop over all class\n",
    "tp = 0\n",
    "fp = 0\n",
    "for class_ in range(num_class):\n",
    "    temp_true = [1 if p == class_ else 0 for p in y_true]\n",
    "    temp_pred = [1 if p == class_ else 0 for p in y_pred]\n",
    "    tp += true_positive(temp_true,temp_pred)\n",
    "    fp += false_positive(temp_true,temp_pred)        \n",
    "    \n",
    "precision = tp / ( tp + fp)\n",
    "return precision"
   ]
  },
  {
   "cell_type": "code",
   "execution_count": 38,
   "id": "36c8c9af-c9ce-441b-92ea-4c6a7cc5a5e9",
   "metadata": {},
   "outputs": [
    {
     "data": {
      "image/png": "[encoded data removed]",
      "text/plain": [
       "<Figure size 216x216 with 1 Axes>"
      ]
     },
     "metadata": {},
     "output_type": "display_data"
    }
   ],
   "source": [
    "### Confusion Matrix\n",
    "###.  TP, FP, TN, FN\n",
    "### FP - Type 1 error\n",
    "### FN - Type II error\n",
    "import matplotlib.pyplot as plt\n",
    "import seaborn as sns\n",
    "from sklearn import metrics\n",
    "y_true = [0,1,1,1,0,0,0,1]\n",
    "y_pred = [0,1,0,1,0,1,0,0]\n",
    "cm = metrics.confusion_matrix(y_true,y_pred)\n",
    "\n",
    "plt.figure(figsize=(3,3))\n",
    "cmap = sns.cubehelix_palette(20,hue=0.05,rot=0,light=0.9,dark=0,as_cmap=True)\n",
    "sns.set(font_scale=2.5)\n",
    "sns.heatmap(cm,annot=True,cmap=cmap,cbar=False)\n",
    "plt.ylabel('Actual Labels',fontsize=15)\n",
    "plt.xlabel('predicted Labels',fontsize=15)\n",
    "plt.show()"
   ]
  },
  {
   "cell_type": "markdown",
   "id": "ccdaa1bd-93c1-45dc-abee-41763ee5aabb",
   "metadata": {},
   "source": [
    "### Multilabel Classification\n",
    "### Precision@K\n",
    "### Avg Precision@K\n",
    "### Mean Avg Precision@K\n",
    "### Log Loss\n",
    "### Precision is def as no of hits in the predicted list consideting only top K predictions divided by K"
   ]
  },
  {
   "cell_type": "code",
   "execution_count": null,
   "id": "1540c663-10ee-4492-bb1c-e4eda2083174",
   "metadata": {},
   "outputs": [],
   "source": [
    "### per sample\n",
    "def pk(y_true,y_pred,k):\n",
    "    if k == 0:\n",
    "        return 0\n",
    "    y1_pred = y_pred[:k]\n",
    "    pred_set = set(y1_pred)\n",
    "    true_set = set(y_true)\n",
    "    common_val = pred_set.intersection(true_set)\n",
    "    return len(common_val) / len(y_pred[:k])"
   ]
  },
  {
   "cell_type": "code",
   "execution_count": null,
   "id": "50fb44f9-0099-46f8-9c15-ee0fc70da375",
   "metadata": {},
   "outputs": [],
   "source": [
    "### Avg Precision@K\n",
    "### Calculate AP@3 then P@1 , P@2, P@3 then Avg\n",
    "def apk(y_true,y_pred,k):\n",
    "    pk_val = []\n",
    "    for i in range(1,k+1):\n",
    "        pk_val.append(pk(y_true,y_pred,i))\n",
    "    if len(pk_val) == 0:\n",
    "        return 0\n",
    "    return sum(pk_val) / len(pk_val)"
   ]
  },
  {
   "cell_type": "code",
   "execution_count": null,
   "id": "ccfaf0aa-34f6-4700-a680-f0e3bdf59484",
   "metadata": {},
   "outputs": [],
   "source": [
    "### MAP@K\n",
    "def mapk(y_true,y_pred,k):\n",
    "    apk_val = []\n",
    "    for i in range(len(y_true)):\n",
    "        apk_val.append(apk(y_true,y_pred,k=k)\n",
    "    return sum(apk_val) / len(apk_val)"
   ]
  },
  {
   "cell_type": "markdown",
   "id": "d4253e41-3ade-40b6-98a3-9eea2f2cffa4",
   "metadata": {},
   "source": [
    "### Regression\n",
    "### Error = True Val - Predicted Val\n",
    "### ABS Error = abs(True Val - Predicted Val) - MAE\n",
    "### Sqred Erroe = (True Val - Predicted Val) ** 2 - MSE\n",
    "### RMSE = SQRT( MSE) \n",
    "### SLE / MSLE / RMSLE = (log(1+y_true) - log(1+y_pred)) ** 2\n",
    "### % error = ((True Val - Predicted Val) / True val) * 100 - MAbsPercentageErr\n",
    "### R2 - coeff of determination\n",
    "###    R2 = 1 - Num/den\n",
    "###     num = sum(( y true - y pred) **2 )\n",
    "###     den.= sum(( y trye - y true mean ) ** 2)\n",
    "### MCC - Mathew's corelation Coeff\n",
    "### MCC = (TP*TN - FP*FN) / [(TP+FP) * (FN+TN) * (FP+TN) * (TP+FN)] ^ 0.5"
   ]
  }
 ],
 "metadata": {
  "kernelspec": {
   "display_name": "Python 3 (ipykernel)",
   "language": "python",
   "name": "python3"
  },
  "language_info": {
   "codemirror_mode": {
    "name": "ipython",
    "version": 3
   },
   "file_extension": ".py",
   "mimetype": "text/x-python",
   "name": "python",
   "nbconvert_exporter": "python",
   "pygments_lexer": "ipython3",
   "version": "3.9.7"
  }
 },
 "nbformat": 4,
 "nbformat_minor": 5
}
